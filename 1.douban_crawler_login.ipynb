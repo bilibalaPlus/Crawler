{
 "cells": [
  {
   "cell_type": "markdown",
   "metadata": {},
   "source": [
    "## 用requests模拟登陆豆瓣"
   ]
  },
  {
   "cell_type": "markdown",
   "metadata": {},
   "source": [
    "### 导入需要的库"
   ]
  },
  {
   "cell_type": "code",
   "execution_count": 1,
   "metadata": {
    "collapsed": true
   },
   "outputs": [],
   "source": [
    "# -*- encoding:utf-8 -*-  \n",
    "#import urllib2  \n",
    "#import urllib  \n",
    "import re  \n",
    "import cookielib  \n",
    "import requests  \n",
    "from PIL import Image\n",
    "import cStringIO"
   ]
  },
  {
   "cell_type": "markdown",
   "metadata": {},
   "source": [
    "### 定义登录url 表单信息 HTTP头"
   ]
  },
  {
   "cell_type": "code",
   "execution_count": null,
   "metadata": {
    "collapsed": true
   },
   "outputs": [],
   "source": [
    "loginUrl = 'https://www.douban.com/accounts/login'  \n",
    "\n",
    "formData={    \n",
    "    \"form_email\":'你的账号',            #这里填写你的账号\n",
    "    \"form_password\":'你的密码' ,        #这里填写你的密码\n",
    "    'source':'index_nav'\n",
    "}\n",
    "   \n",
    "headers={  \n",
    "    'Accept'    : 'text/html,application/xhtml+xml,application/xml;q=0.9,image/webp,*/*;q=0.8',   \n",
    "    'Host' : 'www.douban.com',  \n",
    "    'Referer' : 'https://www.douban.com/',  \n",
    "    'User-Agent' : 'Mozilla/5.0 (Windows NT 6.1; rv:48.0)'  \n",
    "} "
   ]
  },
  {
   "cell_type": "markdown",
   "metadata": {},
   "source": [
    "### 获取session数据"
   ]
  },
  {
   "cell_type": "code",
   "execution_count": 1,
   "metadata": {
    "collapsed": true
   },
   "outputs": [],
   "source": [
    "import requests"
   ]
  },
  {
   "cell_type": "code",
   "execution_count": null,
   "metadata": {
    "collapsed": true
   },
   "outputs": [],
   "source": [
    "session = requests.session()\n",
    "req = session.get('https://www.douban.com/',headers=headers, allow_redirects=False)"
   ]
  },
  {
   "cell_type": "markdown",
   "metadata": {},
   "source": [
    "### 模拟登陆\n",
    "#### 针对验证码问题，通过正则表达式获取验证码url，并手动填入"
   ]
  },
  {
   "cell_type": "code",
   "execution_count": null,
   "metadata": {
    "collapsed": true
   },
   "outputs": [],
   "source": [
    "#正则提取ID\n",
    "pattern = re.compile('<img id=\"captcha_image\".*?id=(.*?)&',re.S)     \n",
    "result = re.search(pattern,req.text)\n",
    "id = result.group(1)\n",
    "\n",
    "#正则提取验证码链接\n",
    "pattern = re.compile('<img id=\"captcha_image\".*?src=\"(.*?) alt=\"captcha',re.S)     \n",
    "result = re.search(pattern,req.text)\n",
    "imageURL = result.group(1).strip()\n",
    "\n",
    "#打开图像链接，输出图片\n",
    "request=urllib2.Request(imageURL,headers=headers)\n",
    "respHtml = urllib2.urlopen(request).read()\n",
    "img = Image.open(cStringIO.StringIO(respHtml))  \n",
    "print u'请输入你看到的字母'\n",
    "img.show()\n",
    "\n",
    "#人眼识别，填入验证码信息\n",
    "checkCode = raw_input()\n",
    "#表单中加入captcha-solution\n",
    "formData[\"captcha-solution\"]=checkCode\n",
    "#表单加入id信息\n",
    "formData[\"captcha-id\"]=id\n",
    "#发送post请求\n",
    "session.post(loginUrl,data=formData,headers=headers) \n",
    "#站内的测试链接，用来判断是否登入成功\n",
    "url = \"https://www.douban.com/people/90868630/\"\n",
    "#用session访问\n",
    "code = session.get(url, headers=headers, allow_redirects=False)\n",
    "if code.status_code==200 :\n",
    "    print u'登陆成功'\n",
    "else:\n",
    "print u'登录失败'"
   ]
  }
 ],
 "metadata": {
  "kernelspec": {
   "display_name": "Python 2",
   "language": "python",
   "name": "python2"
  },
  "language_info": {
   "codemirror_mode": {
    "name": "ipython",
    "version": 2
   },
   "file_extension": ".py",
   "mimetype": "text/x-python",
   "name": "python",
   "nbconvert_exporter": "python",
   "pygments_lexer": "ipython2",
   "version": "2.7.10"
  }
 },
 "nbformat": 4,
 "nbformat_minor": 0
}
