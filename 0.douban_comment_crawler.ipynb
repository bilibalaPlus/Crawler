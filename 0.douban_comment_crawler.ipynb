{
 "cells": [
  {
   "cell_type": "markdown",
   "metadata": {},
   "source": [
    "## 爬取豆瓣电影评论"
   ]
  },
  {
   "cell_type": "markdown",
   "metadata": {},
   "source": [
    "### 导入需要的库"
   ]
  },
  {
   "cell_type": "code",
   "execution_count": 2,
   "metadata": {
    "collapsed": true
   },
   "outputs": [],
   "source": [
    "# coding:utf-8\n",
    "import sys\n",
    "import requests\n",
    "import time"
   ]
  },
  {
   "cell_type": "markdown",
   "metadata": {},
   "source": [
    "### 设置url和http头"
   ]
  },
  {
   "cell_type": "code",
   "execution_count": 4,
   "metadata": {
    "collapsed": true
   },
   "outputs": [],
   "source": [
    "headers = {\n",
    "    'User-Agent':'Mozilla/5.0 (Windows NT 6.1; WOW64) AppleWebKit/537.36 (KHTML, like Gecko) Chrome/47.0.2526.80 Safari/537.36 Core/1.47.933.400 QQBrowser/9.4.8699.400',\n",
    "}\n",
    "url = 'https://movie.douban.com/subject/26683290/comments'"
   ]
  },
  {
   "cell_type": "markdown",
   "metadata": {},
   "source": [
    "### 获取数据"
   ]
  },
  {
   "cell_type": "code",
   "execution_count": 5,
   "metadata": {
    "collapsed": true
   },
   "outputs": [],
   "source": [
    "data = requests.get(url, headers=headers)"
   ]
  },
  {
   "cell_type": "markdown",
   "metadata": {},
   "source": [
    "### 查看编码"
   ]
  },
  {
   "cell_type": "code",
   "execution_count": 6,
   "metadata": {
    "collapsed": false
   },
   "outputs": [
    {
     "data": {
      "text/plain": [
       "'utf-8'"
      ]
     },
     "execution_count": 6,
     "metadata": {},
     "output_type": "execute_result"
    }
   ],
   "source": [
    "data.encoding"
   ]
  },
  {
   "cell_type": "markdown",
   "metadata": {},
   "source": [
    "### lxml与解析\n",
    "大家可以利用BeautifulSoup做解析，我们换一种更高效的解析器，叫做lxml，会通过Xpath路径表达式来定位节点位置。"
   ]
  },
  {
   "cell_type": "code",
   "execution_count": 7,
   "metadata": {
    "collapsed": false
   },
   "outputs": [],
   "source": [
    "#soup = BeautifulSoup(data.text, \"html.parser\", from_encoding='utf-8')\n",
    "from lxml import etree\n",
    "selector = etree.HTML(data.text)"
   ]
  },
  {
   "cell_type": "markdown",
   "metadata": {},
   "source": [
    "### 抽取所有评论区域"
   ]
  },
  {
   "cell_type": "code",
   "execution_count": 14,
   "metadata": {
    "collapsed": false
   },
   "outputs": [],
   "source": [
    "comments = selector.xpath('//div[@class=\"comment\"]')"
   ]
  },
  {
   "cell_type": "markdown",
   "metadata": {},
   "source": [
    "### 对评论区进行解析"
   ]
  },
  {
   "cell_type": "code",
   "execution_count": 20,
   "metadata": {
    "collapsed": false
   },
   "outputs": [],
   "source": [
    "users = []\n",
    "stars = []\n",
    "comment_texts = []\n",
    "\n",
    "#遍历\n",
    "for comment in comments:\n",
    "    user = comment.xpath('.//h3/span[2]/a/text()')[0]\n",
    "    star = comment.xpath('.//h3/span[2]/span[2]/@class')[0][7:8]\n",
    "    comment_text = comment.xpath('.//p/text()')[0].strip()\n",
    "    \n",
    "    users.append(user)\n",
    "    stars.append(star)\n",
    "    comment_texts.append(comment_text)\n",
    "\n",
    "comment_dic = {'user':users, 'star':stars, 'comments':comment_texts}"
   ]
  },
  {
   "cell_type": "markdown",
   "metadata": {},
   "source": [
    "### 组合成数据帧"
   ]
  },
  {
   "cell_type": "code",
   "execution_count": 21,
   "metadata": {
    "collapsed": true
   },
   "outputs": [],
   "source": [
    "import pandas as pd\n",
    "comments_df = pd.DataFrame(comment_dic)"
   ]
  },
  {
   "cell_type": "code",
   "execution_count": 22,
   "metadata": {
    "collapsed": false
   },
   "outputs": [
    {
     "data": {
      "text/html": [
       "<div>\n",
       "<style>\n",
       "    .dataframe thead tr:only-child th {\n",
       "        text-align: right;\n",
       "    }\n",
       "\n",
       "    .dataframe thead th {\n",
       "        text-align: left;\n",
       "    }\n",
       "\n",
       "    .dataframe tbody tr th {\n",
       "        vertical-align: top;\n",
       "    }\n",
       "</style>\n",
       "<table border=\"1\" class=\"dataframe\">\n",
       "  <thead>\n",
       "    <tr style=\"text-align: right;\">\n",
       "      <th></th>\n",
       "      <th>comments</th>\n",
       "      <th>star</th>\n",
       "      <th>user</th>\n",
       "    </tr>\n",
       "  </thead>\n",
       "  <tbody>\n",
       "    <tr>\n",
       "      <th>0</th>\n",
       "      <td>假，大，空。</td>\n",
       "      <td>1</td>\n",
       "      <td>Underdyingsun</td>\n",
       "    </tr>\n",
       "    <tr>\n",
       "      <th>1</th>\n",
       "      <td>这部片深刻地告诉我们 一个有好剧本的诚哥有多可怕 ☄</td>\n",
       "      <td>5</td>\n",
       "      <td>银河系漫游指南</td>\n",
       "    </tr>\n",
       "    <tr>\n",
       "      <th>2</th>\n",
       "      <td>新海诚用这样的故事去温暖城市中每一个仍然愿意相信爱的人。在这么大的世界里，能够遇见你，竟然需...</td>\n",
       "      <td>5</td>\n",
       "      <td>翻滚吧！蛋堡</td>\n",
       "    </tr>\n",
       "    <tr>\n",
       "      <th>3</th>\n",
       "      <td>谁，谁说新海诚这次会讲故事了？啊？大概是他看了一部交换身体的电影，一部穿越时空的电影，一部谈...</td>\n",
       "      <td>2</td>\n",
       "      <td>萨库拉</td>\n",
       "    </tr>\n",
       "    <tr>\n",
       "      <th>4</th>\n",
       "      <td>除了画面都很一般，还有大家是不是真的没看过触不到的恋人？</td>\n",
       "      <td>1</td>\n",
       "      <td>安德烈娜</td>\n",
       "    </tr>\n",
       "    <tr>\n",
       "      <th>5</th>\n",
       "      <td>这一次要给新海诚打200分，在我鄙视他不过只是纯情小清新的10年前，没料到有朝一日会在电影院...</td>\n",
       "      <td>5</td>\n",
       "      <td>丁小猫</td>\n",
       "    </tr>\n",
       "    <tr>\n",
       "      <th>6</th>\n",
       "      <td>女大三，抱金砖。</td>\n",
       "      <td>3</td>\n",
       "      <td>Solder</td>\n",
       "    </tr>\n",
       "    <tr>\n",
       "      <th>7</th>\n",
       "      <td>新海诚，是动画之耻。</td>\n",
       "      <td>1</td>\n",
       "      <td>Sherlock</td>\n",
       "    </tr>\n",
       "    <tr>\n",
       "      <th>8</th>\n",
       "      <td>和《追逐繁星的孩子》同个毛病——一个平时专注于言情的人看了科幻小说之后可能就是这样的，他执着...</td>\n",
       "      <td>3</td>\n",
       "      <td>CharlesChou</td>\n",
       "    </tr>\n",
       "    <tr>\n",
       "      <th>9</th>\n",
       "      <td>黛玉心中想道：“好生奇怪，倒像在哪里见过一般，何等眼熟到如此!”\\n宝玉看罢，因笑道：“这个...</td>\n",
       "      <td>5</td>\n",
       "      <td>小鱼是树上妖怪</td>\n",
       "    </tr>\n",
       "    <tr>\n",
       "      <th>10</th>\n",
       "      <td>高配版大鱼海棠，奶奶是夏日大作战穿越来的。新海诚老生常谈，节奏没把握好，人物单薄，插入曲太满...</td>\n",
       "      <td>3</td>\n",
       "      <td>kino</td>\n",
       "    </tr>\n",
       "    <tr>\n",
       "      <th>11</th>\n",
       "      <td>动漫的逻辑着实令人着急，因为交换过身体就一定要喜欢对方？男主总会莫名开始思考一些哲学问题：“...</td>\n",
       "      <td>2</td>\n",
       "      <td>西西弗斯</td>\n",
       "    </tr>\n",
       "    <tr>\n",
       "      <th>12</th>\n",
       "      <td>错过和努力才是爱和青春的墓志铭</td>\n",
       "      <td>5</td>\n",
       "      <td>空気嫁</td>\n",
       "    </tr>\n",
       "    <tr>\n",
       "      <th>13</th>\n",
       "      <td>和前作相比并没觉得有变好？？反倒在大屏幕更加显得像在看幻灯片，故事情节在哪里？觉得太没有人间...</td>\n",
       "      <td>2</td>\n",
       "      <td>Cindy</td>\n",
       "    </tr>\n",
       "    <tr>\n",
       "      <th>14</th>\n",
       "      <td>只有新海诚才能让我一次又一次感受到爱情的纯粹与美好。被爱情伤得遍体鳞伤的我，不再相信爱情的我...</td>\n",
       "      <td>5</td>\n",
       "      <td>洋芋片</td>\n",
       "    </tr>\n",
       "    <tr>\n",
       "      <th>15</th>\n",
       "      <td>商业滥情到令人生厌，在手机时代交换身体那么久然后互相不知道时空不同我也是醉了</td>\n",
       "      <td>2</td>\n",
       "      <td>五色全味</td>\n",
       "    </tr>\n",
       "    <tr>\n",
       "      <th>16</th>\n",
       "      <td>这个故事告诉我们，彗星也俗称扫把星。</td>\n",
       "      <td>4</td>\n",
       "      <td>islandaway</td>\n",
       "    </tr>\n",
       "    <tr>\n",
       "      <th>17</th>\n",
       "      <td>你我相逢在黑夜的空中，你有你的我有我的方向，你记得也好，最好你忘掉，在这交会时互放的光亮。</td>\n",
       "      <td>4</td>\n",
       "      <td>哪吒男</td>\n",
       "    </tr>\n",
       "    <tr>\n",
       "      <th>18</th>\n",
       "      <td>作画唯美，故事无感。</td>\n",
       "      <td>2</td>\n",
       "      <td>lo</td>\n",
       "    </tr>\n",
       "    <tr>\n",
       "      <th>19</th>\n",
       "      <td>新海诚花了十年，让男女主在擦肩而过后回头叫住了对方。</td>\n",
       "      <td>5</td>\n",
       "      <td>李大毛</td>\n",
       "    </tr>\n",
       "  </tbody>\n",
       "</table>\n",
       "</div>"
      ],
      "text/plain": [
       "                                             comments star           user\n",
       "0                                              假，大，空。    1  Underdyingsun\n",
       "1                          这部片深刻地告诉我们 一个有好剧本的诚哥有多可怕 ☄    5        银河系漫游指南\n",
       "2   新海诚用这样的故事去温暖城市中每一个仍然愿意相信爱的人。在这么大的世界里，能够遇见你，竟然需...    5         翻滚吧！蛋堡\n",
       "3   谁，谁说新海诚这次会讲故事了？啊？大概是他看了一部交换身体的电影，一部穿越时空的电影，一部谈...    2            萨库拉\n",
       "4                        除了画面都很一般，还有大家是不是真的没看过触不到的恋人？    1           安德烈娜\n",
       "5   这一次要给新海诚打200分，在我鄙视他不过只是纯情小清新的10年前，没料到有朝一日会在电影院...    5            丁小猫\n",
       "6                                            女大三，抱金砖。    3         Solder\n",
       "7                                          新海诚，是动画之耻。    1       Sherlock\n",
       "8   和《追逐繁星的孩子》同个毛病——一个平时专注于言情的人看了科幻小说之后可能就是这样的，他执着...    3    CharlesChou\n",
       "9   黛玉心中想道：“好生奇怪，倒像在哪里见过一般，何等眼熟到如此!”\\n宝玉看罢，因笑道：“这个...    5        小鱼是树上妖怪\n",
       "10  高配版大鱼海棠，奶奶是夏日大作战穿越来的。新海诚老生常谈，节奏没把握好，人物单薄，插入曲太满...    3           kino\n",
       "11  动漫的逻辑着实令人着急，因为交换过身体就一定要喜欢对方？男主总会莫名开始思考一些哲学问题：“...    2           西西弗斯\n",
       "12                                    错过和努力才是爱和青春的墓志铭    5            空気嫁\n",
       "13  和前作相比并没觉得有变好？？反倒在大屏幕更加显得像在看幻灯片，故事情节在哪里？觉得太没有人间...    2          Cindy\n",
       "14  只有新海诚才能让我一次又一次感受到爱情的纯粹与美好。被爱情伤得遍体鳞伤的我，不再相信爱情的我...    5            洋芋片\n",
       "15             商业滥情到令人生厌，在手机时代交换身体那么久然后互相不知道时空不同我也是醉了    2           五色全味\n",
       "16                                 这个故事告诉我们，彗星也俗称扫把星。    4     islandaway\n",
       "17      你我相逢在黑夜的空中，你有你的我有我的方向，你记得也好，最好你忘掉，在这交会时互放的光亮。    4            哪吒男\n",
       "18                                         作画唯美，故事无感。    2             lo\n",
       "19                         新海诚花了十年，让男女主在擦肩而过后回头叫住了对方。    5            李大毛"
      ]
     },
     "execution_count": 22,
     "metadata": {},
     "output_type": "execute_result"
    }
   ],
   "source": [
    "comments_df"
   ]
  }
 ],
 "metadata": {
  "kernelspec": {
   "display_name": "Python 2",
   "language": "python",
   "name": "python2"
  },
  "language_info": {
   "codemirror_mode": {
    "name": "ipython",
    "version": 2
   },
   "file_extension": ".py",
   "mimetype": "text/x-python",
   "name": "python",
   "nbconvert_exporter": "python",
   "pygments_lexer": "ipython2",
   "version": "2.7.10"
  }
 },
 "nbformat": 4,
 "nbformat_minor": 0
}
